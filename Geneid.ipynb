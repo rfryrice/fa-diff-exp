{
 "cells": [
  {
   "cell_type": "code",
   "execution_count": 1,
   "id": "ebfe4b85",
   "metadata": {},
   "outputs": [],
   "source": [
    "import pandas as pd\n",
    "import numpy as np\n",
    "import matplotlib.pyplot as plt\n",
    "import seaborn as sns\n",
    "\n",
    "data = pd.read_csv(\"diffexp.csv\", sep='\\t')"
   ]
  },
  {
   "cell_type": "code",
   "execution_count": 2,
   "id": "b572d468",
   "metadata": {},
   "outputs": [
    {
     "name": "stdout",
     "output_type": "stream",
     "text": [
      "<class 'pandas.core.frame.DataFrame'>\n",
      "RangeIndex: 34794 entries, 0 to 34793\n",
      "Data columns (total 3 columns):\n",
      " #   Column             Non-Null Count  Dtype  \n",
      "---  ------             --------------  -----  \n",
      " 0   Geneid             34794 non-null  object \n",
      " 1   p_value            34794 non-null  float64\n",
      " 2   p_value_corrected  34794 non-null  float64\n",
      "dtypes: float64(2), object(1)\n",
      "memory usage: 815.6+ KB\n"
     ]
    }
   ],
   "source": [
    "data.info()"
   ]
  },
  {
   "cell_type": "code",
   "execution_count": 8,
   "id": "2263fd2c",
   "metadata": {},
   "outputs": [
    {
     "data": {
      "text/html": [
       "<div>\n",
       "<style scoped>\n",
       "    .dataframe tbody tr th:only-of-type {\n",
       "        vertical-align: middle;\n",
       "    }\n",
       "\n",
       "    .dataframe tbody tr th {\n",
       "        vertical-align: top;\n",
       "    }\n",
       "\n",
       "    .dataframe thead th {\n",
       "        text-align: right;\n",
       "    }\n",
       "</style>\n",
       "<table border=\"1\" class=\"dataframe\">\n",
       "  <thead>\n",
       "    <tr style=\"text-align: right;\">\n",
       "      <th></th>\n",
       "      <th>Geneid</th>\n",
       "      <th>p_value</th>\n",
       "      <th>p_value_corrected</th>\n",
       "    </tr>\n",
       "  </thead>\n",
       "  <tbody>\n",
       "    <tr>\n",
       "      <th>0</th>\n",
       "      <td>ENSG00000235262</td>\n",
       "      <td>4.385772e-08</td>\n",
       "      <td>0.000381</td>\n",
       "    </tr>\n",
       "    <tr>\n",
       "      <th>1</th>\n",
       "      <td>ENSG00000254616</td>\n",
       "      <td>4.385772e-08</td>\n",
       "      <td>0.000381</td>\n",
       "    </tr>\n",
       "    <tr>\n",
       "      <th>2</th>\n",
       "      <td>ENSG00000259512</td>\n",
       "      <td>4.385772e-08</td>\n",
       "      <td>0.000381</td>\n",
       "    </tr>\n",
       "    <tr>\n",
       "      <th>3</th>\n",
       "      <td>ENSG00000222276</td>\n",
       "      <td>4.385772e-08</td>\n",
       "      <td>0.000381</td>\n",
       "    </tr>\n",
       "    <tr>\n",
       "      <th>4</th>\n",
       "      <td>ENSG00000214825</td>\n",
       "      <td>1.066017e-06</td>\n",
       "      <td>0.007418</td>\n",
       "    </tr>\n",
       "  </tbody>\n",
       "</table>\n",
       "</div>"
      ],
      "text/plain": [
       "            Geneid       p_value  p_value_corrected\n",
       "0  ENSG00000235262  4.385772e-08           0.000381\n",
       "1  ENSG00000254616  4.385772e-08           0.000381\n",
       "2  ENSG00000259512  4.385772e-08           0.000381\n",
       "3  ENSG00000222276  4.385772e-08           0.000381\n",
       "4  ENSG00000214825  1.066017e-06           0.007418"
      ]
     },
     "execution_count": 8,
     "metadata": {},
     "output_type": "execute_result"
    }
   ],
   "source": [
    "genes = data.loc[data['p_value_corrected'] < 0.05]\n",
    "genes"
   ]
  },
  {
   "cell_type": "markdown",
   "id": "a47b0d96",
   "metadata": {},
   "source": [
    "|     Geneid    |Gene Name|Chrommosome|\n",
    "|---------------|---------|-----------|\n",
    "|ENSG00000235262|KDM5C-IT1|    X      |\n",
    "|ENSG00000254616| ZNF628  |   11      |\n",
    "|ENSG00000259512|HNRNPA1P5|   15      |\n",
    "|ENSG00000222276|RNU2-33P |   14      |\n",
    "|ENSG00000214825|  EI24P3 |   3       |\n",
    "\n",
    "All but the first are labeled as pseudogenes, which are nonfunctional segments of DNA that resmble functional genes."
   ]
  },
  {
   "cell_type": "code",
   "execution_count": null,
   "id": "da9df487",
   "metadata": {},
   "outputs": [],
   "source": []
  }
 ],
 "metadata": {
  "kernelspec": {
   "display_name": "Python 3 (ipykernel)",
   "language": "python",
   "name": "python3"
  },
  "language_info": {
   "codemirror_mode": {
    "name": "ipython",
    "version": 3
   },
   "file_extension": ".py",
   "mimetype": "text/x-python",
   "name": "python",
   "nbconvert_exporter": "python",
   "pygments_lexer": "ipython3",
   "version": "3.9.13"
  }
 },
 "nbformat": 4,
 "nbformat_minor": 5
}
